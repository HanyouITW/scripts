{
 "cells": [
  {
   "cell_type": "code",
   "execution_count": 49,
   "metadata": {},
   "outputs": [
    {
     "name": "stdout",
     "output_type": "stream",
     "text": [
      "['>1', 'dna:chromosome', 'chromosome:Rnor_6.0:1:1:282763074:1', 'REF'] 1\n",
      "['>2', 'dna:chromosome', 'chromosome:Rnor_6.0:2:1:266435125:1', 'REF'] 2\n",
      "['>3', 'dna:chromosome', 'chromosome:Rnor_6.0:3:1:177699992:1', 'REF'] 3\n",
      "['>4', 'dna:chromosome', 'chromosome:Rnor_6.0:4:1:184226339:1', 'REF'] 4\n",
      "['>5', 'dna:chromosome', 'chromosome:Rnor_6.0:5:1:173707219:1', 'REF'] 5\n",
      "['>6', 'dna:chromosome', 'chromosome:Rnor_6.0:6:1:147991367:1', 'REF'] 6\n",
      "['>7', 'dna:chromosome', 'chromosome:Rnor_6.0:7:1:145729302:1', 'REF'] 7\n",
      "['>8', 'dna:chromosome', 'chromosome:Rnor_6.0:8:1:133307652:1', 'REF'] 8\n",
      "['>9', 'dna:chromosome', 'chromosome:Rnor_6.0:9:1:122095297:1', 'REF'] 9\n",
      "['>10', 'dna:chromosome', 'chromosome:Rnor_6.0:10:1:112626471:1', 'REF'] 10\n",
      "['>11', 'dna:chromosome', 'chromosome:Rnor_6.0:11:1:90463843:1', 'REF'] 11\n",
      "['>12', 'dna:chromosome', 'chromosome:Rnor_6.0:12:1:52716770:1', 'REF'] 12\n",
      "['>13', 'dna:chromosome', 'chromosome:Rnor_6.0:13:1:114033958:1', 'REF'] 13\n",
      "['>14', 'dna:chromosome', 'chromosome:Rnor_6.0:14:1:115493446:1', 'REF'] 14\n",
      "['>15', 'dna:chromosome', 'chromosome:Rnor_6.0:15:1:111246239:1', 'REF'] 15\n",
      "['>16', 'dna:chromosome', 'chromosome:Rnor_6.0:16:1:90668790:1', 'REF'] 16\n",
      "['>17', 'dna:chromosome', 'chromosome:Rnor_6.0:17:1:90843779:1', 'REF'] 17\n",
      "['>18', 'dna:chromosome', 'chromosome:Rnor_6.0:18:1:88201929:1', 'REF'] 18\n",
      "['>19', 'dna:chromosome', 'chromosome:Rnor_6.0:19:1:62275575:1', 'REF'] 19\n",
      "['>20', 'dna:chromosome', 'chromosome:Rnor_6.0:20:1:56205956:1', 'REF'] 20\n",
      "['>X', 'dna:chromosome', 'chromosome:Rnor_6.0:X:1:159970021:1', 'REF'] X\n",
      "['>Y', 'dna:chromosome', 'chromosome:Rnor_6.0:Y:1:3310458:1', 'REF'] Y\n",
      "['>MT', 'dna:chromosome', 'chromosome:Rnor_6.0:MT:1:16313:1', 'REF'] MT\n",
      "['>KL568162.1', 'dna:scaffold', 'scaffold:Rnor_6.0:KL568162.1:1:10937627:1', 'REF'] KL568162.1\n",
      "['>KL568139.1', 'dna:scaffold', 'scaffold:Rnor_6.0:KL568139.1:1:9752924:1', 'REF'] KL568139.1\n",
      "['>KL568161.1', 'dna:scaffold', 'scaffold:Rnor_6.0:KL568161.1:1:7627431:1', 'REF'] KL568161.1\n",
      "['>KL568148.1', 'dna:scaffold', 'scaffold:Rnor_6.0:KL568148.1:1:6483517:1', 'REF'] KL568148.1\n",
      "['>KL568157.1', 'dna:scaffold', 'scaffold:Rnor_6.0:KL568157.1:1:5447879:1', 'REF'] KL568157.1\n",
      "['>KL568160.1', 'dna:scaffold', 'scaffold:Rnor_6.0:KL568160.1:1:4317250:1', 'REF'] KL568160.1\n",
      "['>KL568151.1', 'dna:scaffold', 'scaffold:Rnor_6.0:KL568151.1:1:3931032:1', 'REF'] KL568151.1\n"
     ]
    }
   ],
   "source": [
    "fa=open(\"/Users/hanyou_itw/hanyou_itw_local/data/2019-11-24_vcf_hao/Rattus_norvegicus.Rnor_6.0.dna.toplevel.fa\",\"rt\")\n",
    "counter1=0\n",
    "for i,line in enumerate(fa):\n",
    "    if line[0]==\">\" and counter1<30:\n",
    "        counter1+=1\n",
    "        print (line.split(),line.split()[0][1:])"
   ]
  },
  {
   "cell_type": "code",
   "execution_count": 50,
   "metadata": {},
   "outputs": [],
   "source": [
    "# make dictionary\n",
    "fa=open(\"/Users/hanyou_itw/hanyou_itw_local/data/2019-11-24_vcf_hao/Rattus_norvegicus.Rnor_6.0.dna.toplevel.fa\",\"rt\")\n",
    "counter2=1\n",
    "cmap_to_enname={}\n",
    "for i,line in enumerate(fa):\n",
    "    if line[0]==\">\":\n",
    "        cmap_to_enname[str(counter2)]=line.split()[0][1:]\n",
    "        counter2+=1\n",
    "\n",
    "dic=open(\"/Users/hanyou_itw/hanyou_itw_local/data/2019-11-24_vcf_hao/dic.txt\",\"wt\")\n",
    "for key in cmap_to_enname:\n",
    "    dic.write(str(key)+\"\\t\"+cmap_to_enname[key])\n",
    "    dic.write(\"\\n\")\n",
    "dic.close()"
   ]
  },
  {
   "cell_type": "code",
   "execution_count": 67,
   "metadata": {},
   "outputs": [],
   "source": [
    "# do the conversion\n",
    "old_vcf=open(\"/Users/hanyou_itw/hanyou_itw_local/data/2019-11-24_vcf_hao/BN-Lx.vcf\",\"rt\")\n",
    "new_vcf=open(\"/Users/hanyou_itw/hanyou_itw_local/data/2019-11-24_vcf_hao/BN-Lx_new.vcf\",\"wt\")\n",
    "for line in old_vcf:\n",
    "    if line[0:len(\"##contig=<ID=\")] == \"##contig=<ID=\":\n",
    "        new_vcf.write(line.replace(line[16:-2],cmap_to_enname[str(line[16:-2])],1))\n",
    "    elif line[0:3]== \"chr\":\n",
    "        new_vcf.write(line.replace(line.split()[0][3:],cmap_to_enname[str(line.split()[0][3:])],1))\n",
    "    else:\n",
    "        new_vcf.write(line)\n",
    "new_vcf.close()"
   ]
  },
  {
   "cell_type": "code",
   "execution_count": null,
   "metadata": {},
   "outputs": [],
   "source": []
  }
 ],
 "metadata": {
  "kernelspec": {
   "display_name": "Python 3",
   "language": "python",
   "name": "python3"
  },
  "language_info": {
   "codemirror_mode": {
    "name": "ipython",
    "version": 3
   },
   "file_extension": ".py",
   "mimetype": "text/x-python",
   "name": "python",
   "nbconvert_exporter": "python",
   "pygments_lexer": "ipython3",
   "version": "3.7.3"
  }
 },
 "nbformat": 4,
 "nbformat_minor": 2
}
